{
  "cells": [
    {
      "cell_type": "markdown",
      "metadata": {
        "id": "pXGsTx5BOzJr"
      },
      "source": [
        "#  NewCodeWithDictionaries"
      ],
      "id": "pXGsTx5BOzJr"
    },
    {
      "cell_type": "code",
      "execution_count": null,
      "metadata": {
        "id": "YN41y9xEOzJt"
      },
      "outputs": [],
      "source": [
        "import time\n",
        "import shutil\n",
        "import zipfile\n",
        "import pandas as pd\n",
        "from datetime import datetime\n",
        "from selenium import webdriver\n",
        "from webdriver_manager.chrome import ChromeDriverManager\n",
        "from selenium.webdriver.common.action_chains import ActionChains\n",
        "\n",
        "path = r'C:\\Users\\Documentos\\Miriam\\Nielsen\\\\'\n",
        "codes = pd.read_excel(path + 'Códigos Nielsen.xlsx')\n",
        "scantrack_codes = codes[codes['Tipo'] == 'Scantrack']\n",
        "key_codes = list(scantrack_codes['Category'])\n",
        "value_codes = list(scantrack_codes['FF'])\n",
        "value_directions = list(scantrack_codes['HTML'])\n",
        "\n",
        "category_codes = dict(zip(key_codes,value_codes))\n",
        "directions = dict(zip(value_codes,value_directions))\n",
        "\n",
        "# Login parameters\n",
        "email = \"correo@gmail.com\"\n",
        "password = \"12345++\"\n",
        "# Set chromodriver.exe path\n",
        "driver = webdriver.Chrome(ChromeDriverManager().install())\n",
        "# Object of ActionChains\n",
        "action = ActionChains(driver)\n",
        "# Launch URL\n",
        "driver.get(\"https://answers.nielseniq.com/portal/site/answers/template.FRAME\")\n",
        "print(driver.title)\n",
        "driver.maximize_window()\n",
        "# Login\n",
        "time.sleep(5)\n",
        "mail = driver.find_element_by_xpath('//*[@id=\"input27\"]').send_keys(email)\n",
        "ingresar = driver.find_element_by_xpath('//*[@id=\"form19\"]/div[2]/input').click()\n",
        "time.sleep(3)\n",
        "pwd = driver.find_element_by_xpath('//*[@id=\"input58\"]').send_keys(password)\n",
        "ingresar2 = driver.find_element_by_xpath('//*[@id=\"form50\"]/div[2]/input').click()\n",
        "time.sleep(3)\n",
        "# Identify element\n",
        "mycontent = driver.find_element_by_xpath('//*[@id=\"lnk0\"]')\n",
        "# Hover over element\n",
        "action.move_to_element(mycontent).perform()\n",
        "# Identify sub menu element\n",
        "databases = driver.find_element_by_link_text('Databases')\n",
        "# Hover over element and click\n",
        "action.move_to_element(databases).click().perform()\n",
        "time.sleep(2)\n",
        "driver.switch_to.frame(driver.find_element_by_id('ogdp_frameset'))\n",
        "driver.switch_to.frame(driver.find_element_by_name('ws_left'))\n",
        "time.sleep(2)\n",
        "serch_button = driver.find_element_by_xpath('//*[@id=\"toolbar\"]/div/span[4]/a/img').click()\n",
        "# Downloads by category\n",
        "for i in range(len(value_codes)):\n",
        "    print(key_codes[i], value_codes[i])\n",
        "    search = driver.find_element_by_name(\"search_value\")\n",
        "    search.click()\n",
        "    search.send_keys(value_codes[i])\n",
        "    driver.find_element_by_xpath('//*[@id=\"search_form\"]/div/span').click()\n",
        "    driver.switch_to.default_content()\n",
        "    driver.switch_to.frame(driver.find_element_by_id('ogdp_frameset'))\n",
        "    driver.switch_to.frame(driver.find_element_by_name('ws_right'))\n",
        "    down = driver.find_element_by_xpath(directions[value_codes[i]]).click()\n",
        "    driver.switch_to.default_content()\n",
        "    driver.switch_to.frame(driver.find_element_by_id('ogdp_frameset'))\n",
        "    driver.switch_to.frame(driver.find_element_by_name('ws_left'))\n",
        "    search.clear()\n",
        "time.sleep(300)    \n",
        "# Close browser\n",
        "driver.close()\n",
        "time.sleep(120)\n",
        "\n",
        "# Downloads to Sharepoint\n",
        "codes_category = {value : key for key, value in category_codes.items()}\n",
        "path = r'C:\\Users\\Documentos\\NIELSEN\\Scantrack\\\\'\n",
        "\n",
        "for nuevo in value_codes[1:]:\n",
        "    category = path + '00. ScantrackHeds\\\\' + nuevo + '.zip'\n",
        "    shutil.move(r'C:\\Users\\MXRomeroMi3\\Downloads\\\\' + nuevo + '.zip' , category)\n",
        "    with zipfile.ZipFile(category) as z:\n",
        "        z.extractall(path + codes_category[nuevo])\n",
        "print('Full Loaded')"
      ],
      "id": "YN41y9xEOzJt"
    }
  ],
  "metadata": {
    "kernelspec": {
      "display_name": "Python 3",
      "language": "python",
      "name": "python3"
    },
    "language_info": {
      "codemirror_mode": {
        "name": "ipython",
        "version": 3
      },
      "file_extension": ".py",
      "mimetype": "text/x-python",
      "name": "python",
      "nbconvert_exporter": "python",
      "pygments_lexer": "ipython3",
      "version": "3.6.4"
    },
    "colab": {
      "name": "Downloads.ipynb",
      "provenance": []
    }
  },
  "nbformat": 4,
  "nbformat_minor": 5
}